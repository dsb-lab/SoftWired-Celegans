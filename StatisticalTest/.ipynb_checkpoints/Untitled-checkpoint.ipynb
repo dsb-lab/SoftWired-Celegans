{
 "cells": [
  {
   "cell_type": "code",
   "execution_count": 20,
   "metadata": {},
   "outputs": [],
   "source": [
    "import matplotlib.pyplot as plt\n",
    "import numpy as np\n",
    "\n",
    "interseries_corr = np.genfromtxt(open(\"interseries_corr.csv\", \"rb\"), delimiter=\",\")\n",
    "intraseries_corr = np.genfromtxt(open(\"intraseries_corr.csv\", \"rb\"), delimiter=\",\")\n",
    "\n",
    "wid = 0.005\n",
    "\n",
    "[response_intra_distribution,bins_intra] = np.histogram(intraseries_corr,bins=np.arange(0,1+wid,wid))\n",
    "[response_inter_distribution,bins_inter] = np.histogram(interseries_corr,bins=np.arange(0,1+wid,wid))\n",
    "\n",
    "response_intra_distribution = response_intra_distribution #/ np.sum(response_intra_distribution)\n",
    "response_inter_distribution = response_inter_distribution #/ np.sum(response_inter_distribution)\n",
    "\n",
    "mean_intra = np.mean(intraseries_corr)\n",
    "mean_inter = np.mean(interseries_corr)"
   ]
  },
  {
   "cell_type": "code",
   "execution_count": 21,
   "metadata": {},
   "outputs": [],
   "source": [
    "from scipy.stats import chi2_contingency\n",
    "\n",
    "table = np.array([response_intra_distribution,response_inter_distribution])\n",
    "\n",
    "chi,p,dof,expected = chi2_contingency(table)"
   ]
  },
  {
   "cell_type": "code",
   "execution_count": 22,
   "metadata": {},
   "outputs": [
    {
     "data": {
      "text/plain": [
       "12247.864887410631"
      ]
     },
     "execution_count": 22,
     "metadata": {},
     "output_type": "execute_result"
    }
   ],
   "source": [
    "chi"
   ]
  },
  {
   "cell_type": "code",
   "execution_count": 23,
   "metadata": {
    "scrolled": true
   },
   "outputs": [
    {
     "data": {
      "text/plain": [
       "200"
      ]
     },
     "execution_count": 23,
     "metadata": {},
     "output_type": "execute_result"
    }
   ],
   "source": [
    "len(response_inter_distribution)"
   ]
  },
  {
   "cell_type": "code",
   "execution_count": null,
   "metadata": {},
   "outputs": [],
   "source": []
  }
 ],
 "metadata": {
  "kernelspec": {
   "display_name": "Python 3",
   "language": "python",
   "name": "python3"
  },
  "language_info": {
   "codemirror_mode": {
    "name": "ipython",
    "version": 3
   },
   "file_extension": ".py",
   "mimetype": "text/x-python",
   "name": "python",
   "nbconvert_exporter": "python",
   "pygments_lexer": "ipython3",
   "version": "3.7.4"
  }
 },
 "nbformat": 4,
 "nbformat_minor": 2
}
